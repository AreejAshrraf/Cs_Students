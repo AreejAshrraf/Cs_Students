{
 "cells": [
  {
   "cell_type": "code",
   "execution_count": 1,
   "id": "437f98dd-434a-4466-b512-2b950019627d",
   "metadata": {
    "editable": true,
    "slideshow": {
     "slide_type": ""
    },
    "tags": []
   },
   "outputs": [
    {
     "name": "stdout",
     "output_type": "stream",
     "text": [
      "Requirement already satisfied: pygwalker in c:\\users\\elgohary\\newenv\\lib\\site-packages (0.4.9.4)\n",
      "Requirement already satisfied: appdirs in c:\\users\\elgohary\\newenv\\lib\\site-packages (from pygwalker) (1.4.4)\n",
      "Requirement already satisfied: arrow in c:\\users\\elgohary\\newenv\\lib\\site-packages (from pygwalker) (1.3.0)\n",
      "Requirement already satisfied: astor in c:\\users\\elgohary\\newenv\\lib\\site-packages (from pygwalker) (0.8.1)\n",
      "Requirement already satisfied: cachetools in c:\\users\\elgohary\\newenv\\lib\\site-packages (from pygwalker) (5.4.0)\n",
      "Requirement already satisfied: duckdb<2.0.0,>=0.10.1 in c:\\users\\elgohary\\newenv\\lib\\site-packages (from pygwalker) (1.0.0)\n",
      "Requirement already satisfied: gw-dsl-parser==0.1.49.1 in c:\\users\\elgohary\\newenv\\lib\\site-packages (from pygwalker) (0.1.49.1)\n",
      "Requirement already satisfied: ipylab<=1.0.0 in c:\\users\\elgohary\\newenv\\lib\\site-packages (from pygwalker) (1.0.0)\n",
      "Requirement already satisfied: ipython in c:\\users\\elgohary\\newenv\\lib\\site-packages (from pygwalker) (8.26.0)\n",
      "Requirement already satisfied: ipywidgets in c:\\users\\elgohary\\newenv\\lib\\site-packages (from pygwalker) (8.1.3)\n",
      "Requirement already satisfied: jinja2 in c:\\users\\elgohary\\newenv\\lib\\site-packages (from pygwalker) (3.1.4)\n",
      "Requirement already satisfied: kanaries-track==0.0.5 in c:\\users\\elgohary\\newenv\\lib\\site-packages (from pygwalker) (0.0.5)\n",
      "Requirement already satisfied: numpy<2.0.0 in c:\\users\\elgohary\\newenv\\lib\\site-packages (from pygwalker) (1.26.4)\n",
      "Requirement already satisfied: packaging in c:\\users\\elgohary\\newenv\\lib\\site-packages (from pygwalker) (24.1)\n",
      "Requirement already satisfied: pandas in c:\\users\\elgohary\\newenv\\lib\\site-packages (from pygwalker) (2.2.2)\n",
      "Requirement already satisfied: psutil in c:\\users\\elgohary\\newenv\\lib\\site-packages (from pygwalker) (6.0.0)\n",
      "Requirement already satisfied: pyarrow in c:\\users\\elgohary\\newenv\\lib\\site-packages (from pygwalker) (17.0.0)\n",
      "Requirement already satisfied: pydantic in c:\\users\\elgohary\\newenv\\lib\\site-packages (from pygwalker) (2.8.2)\n",
      "Requirement already satisfied: pytz in c:\\users\\elgohary\\newenv\\lib\\site-packages (from pygwalker) (2024.1)\n",
      "Requirement already satisfied: quickjs in c:\\users\\elgohary\\newenv\\lib\\site-packages (from pygwalker) (1.19.4)\n",
      "Requirement already satisfied: requests in c:\\users\\elgohary\\newenv\\lib\\site-packages (from pygwalker) (2.32.3)\n",
      "Requirement already satisfied: segment-analytics-python==2.2.3 in c:\\users\\elgohary\\newenv\\lib\\site-packages (from pygwalker) (2.2.3)\n",
      "Requirement already satisfied: sqlalchemy in c:\\users\\elgohary\\newenv\\lib\\site-packages (from pygwalker) (2.0.32)\n",
      "Requirement already satisfied: sqlglot>=23.15.8 in c:\\users\\elgohary\\newenv\\lib\\site-packages (from pygwalker) (25.11.0)\n",
      "Requirement already satisfied: typing-extensions in c:\\users\\elgohary\\newenv\\lib\\site-packages (from pygwalker) (4.12.2)\n",
      "Requirement already satisfied: wasmtime>=12.0.0 in c:\\users\\elgohary\\newenv\\lib\\site-packages (from gw-dsl-parser==0.1.49.1->pygwalker) (23.0.0)\n",
      "Requirement already satisfied: backoff>=2.2.1 in c:\\users\\elgohary\\newenv\\lib\\site-packages (from kanaries-track==0.0.5->pygwalker) (2.2.1)\n",
      "Requirement already satisfied: dateutils>=0.6.12 in c:\\users\\elgohary\\newenv\\lib\\site-packages (from kanaries-track==0.0.5->pygwalker) (0.6.12)\n",
      "Requirement already satisfied: monotonic~=1.5 in c:\\users\\elgohary\\newenv\\lib\\site-packages (from segment-analytics-python==2.2.3->pygwalker) (1.6)\n",
      "Requirement already satisfied: python-dateutil~=2.2 in c:\\users\\elgohary\\newenv\\lib\\site-packages (from segment-analytics-python==2.2.3->pygwalker) (2.9.0.post0)\n",
      "Requirement already satisfied: comm>=0.1.3 in c:\\users\\elgohary\\newenv\\lib\\site-packages (from ipywidgets->pygwalker) (0.2.2)\n",
      "Requirement already satisfied: traitlets>=4.3.1 in c:\\users\\elgohary\\newenv\\lib\\site-packages (from ipywidgets->pygwalker) (5.14.3)\n",
      "Requirement already satisfied: widgetsnbextension~=4.0.11 in c:\\users\\elgohary\\newenv\\lib\\site-packages (from ipywidgets->pygwalker) (4.0.11)\n",
      "Requirement already satisfied: jupyterlab-widgets~=3.0.11 in c:\\users\\elgohary\\newenv\\lib\\site-packages (from ipywidgets->pygwalker) (3.0.11)\n",
      "Requirement already satisfied: decorator in c:\\users\\elgohary\\newenv\\lib\\site-packages (from ipython->pygwalker) (5.1.1)\n",
      "Requirement already satisfied: jedi>=0.16 in c:\\users\\elgohary\\newenv\\lib\\site-packages (from ipython->pygwalker) (0.19.1)\n",
      "Requirement already satisfied: matplotlib-inline in c:\\users\\elgohary\\newenv\\lib\\site-packages (from ipython->pygwalker) (0.1.7)\n",
      "Requirement already satisfied: prompt-toolkit<3.1.0,>=3.0.41 in c:\\users\\elgohary\\newenv\\lib\\site-packages (from ipython->pygwalker) (3.0.47)\n",
      "Requirement already satisfied: pygments>=2.4.0 in c:\\users\\elgohary\\newenv\\lib\\site-packages (from ipython->pygwalker) (2.18.0)\n",
      "Requirement already satisfied: stack-data in c:\\users\\elgohary\\newenv\\lib\\site-packages (from ipython->pygwalker) (0.6.3)\n",
      "Requirement already satisfied: colorama in c:\\users\\elgohary\\newenv\\lib\\site-packages (from ipython->pygwalker) (0.4.6)\n",
      "Requirement already satisfied: charset-normalizer<4,>=2 in c:\\users\\elgohary\\newenv\\lib\\site-packages (from requests->pygwalker) (3.3.2)\n",
      "Requirement already satisfied: idna<4,>=2.5 in c:\\users\\elgohary\\newenv\\lib\\site-packages (from requests->pygwalker) (3.7)\n",
      "Requirement already satisfied: urllib3<3,>=1.21.1 in c:\\users\\elgohary\\newenv\\lib\\site-packages (from requests->pygwalker) (2.2.2)\n",
      "Requirement already satisfied: certifi>=2017.4.17 in c:\\users\\elgohary\\newenv\\lib\\site-packages (from requests->pygwalker) (2024.7.4)\n",
      "Requirement already satisfied: types-python-dateutil>=2.8.10 in c:\\users\\elgohary\\newenv\\lib\\site-packages (from arrow->pygwalker) (2.9.0.20240316)\n",
      "Requirement already satisfied: MarkupSafe>=2.0 in c:\\users\\elgohary\\newenv\\lib\\site-packages (from jinja2->pygwalker) (2.1.5)\n",
      "Requirement already satisfied: tzdata>=2022.7 in c:\\users\\elgohary\\newenv\\lib\\site-packages (from pandas->pygwalker) (2024.1)\n",
      "Requirement already satisfied: annotated-types>=0.4.0 in c:\\users\\elgohary\\newenv\\lib\\site-packages (from pydantic->pygwalker) (0.7.0)\n",
      "Requirement already satisfied: pydantic-core==2.20.1 in c:\\users\\elgohary\\newenv\\lib\\site-packages (from pydantic->pygwalker) (2.20.1)\n",
      "Requirement already satisfied: greenlet!=0.4.17 in c:\\users\\elgohary\\newenv\\lib\\site-packages (from sqlalchemy->pygwalker) (3.0.3)\n",
      "Requirement already satisfied: parso<0.9.0,>=0.8.3 in c:\\users\\elgohary\\newenv\\lib\\site-packages (from jedi>=0.16->ipython->pygwalker) (0.8.4)\n",
      "Requirement already satisfied: wcwidth in c:\\users\\elgohary\\newenv\\lib\\site-packages (from prompt-toolkit<3.1.0,>=3.0.41->ipython->pygwalker) (0.2.13)\n",
      "Requirement already satisfied: six>=1.5 in c:\\users\\elgohary\\newenv\\lib\\site-packages (from python-dateutil~=2.2->segment-analytics-python==2.2.3->pygwalker) (1.16.0)\n",
      "Requirement already satisfied: importlib-resources>=5.10 in c:\\users\\elgohary\\newenv\\lib\\site-packages (from wasmtime>=12.0.0->gw-dsl-parser==0.1.49.1->pygwalker) (6.4.0)\n",
      "Requirement already satisfied: executing>=1.2.0 in c:\\users\\elgohary\\newenv\\lib\\site-packages (from stack-data->ipython->pygwalker) (2.0.1)\n",
      "Requirement already satisfied: asttokens>=2.1.0 in c:\\users\\elgohary\\newenv\\lib\\site-packages (from stack-data->ipython->pygwalker) (2.4.1)\n",
      "Requirement already satisfied: pure-eval in c:\\users\\elgohary\\newenv\\lib\\site-packages (from stack-data->ipython->pygwalker) (0.2.3)\n"
     ]
    },
    {
     "name": "stderr",
     "output_type": "stream",
     "text": [
      "\n",
      "[notice] A new release of pip available: 22.3.1 -> 24.2\n",
      "[notice] To update, run: python.exe -m pip install --upgrade pip\n"
     ]
    }
   ],
   "source": [
    "!pip install pygwalker"
   ]
  },
  {
   "cell_type": "code",
   "execution_count": 2,
   "id": "324fccee-4240-44e5-a615-fe0472b0d49b",
   "metadata": {
    "editable": true,
    "slideshow": {
     "slide_type": ""
    },
    "tags": []
   },
   "outputs": [],
   "source": [
    "import pandas as pd\n",
    "import pygwalker as pyg"
   ]
  },
  {
   "cell_type": "code",
   "execution_count": 3,
   "id": "4e8f4b65-c5a8-4977-8318-cc320288764a",
   "metadata": {
    "editable": true,
    "slideshow": {
     "slide_type": ""
    },
    "tags": []
   },
   "outputs": [],
   "source": [
    "df=pd.read_csv('Downloads\\cs_students.csv')"
   ]
  },
  {
   "cell_type": "code",
   "execution_count": 4,
   "id": "986afb6a-79ed-4bb4-adb6-cb8ee36604e0",
   "metadata": {
    "editable": true,
    "slideshow": {
     "slide_type": ""
    },
    "tags": []
   },
   "outputs": [
    {
     "data": {
      "application/vnd.jupyter.widget-view+json": {
       "model_id": "ae185622384243279f13346fcd8f6dcb",
       "version_major": 2,
       "version_minor": 0
      },
      "text/plain": [
       "Box(children=(HTML(value='\\n<div id=\"ifr-pyg-00061fcfc99e45feK4UwMNkfVDOzi17T\" style=\"height: auto\">\\n    <hea…"
      ]
     },
     "metadata": {},
     "output_type": "display_data"
    },
    {
     "data": {
      "text/html": [],
      "text/plain": [
       "<IPython.core.display.HTML object>"
      ]
     },
     "metadata": {},
     "output_type": "display_data"
    },
    {
     "data": {
      "text/plain": [
       "<pygwalker.api.pygwalker.PygWalker at 0x20df993a590>"
      ]
     },
     "execution_count": 4,
     "metadata": {},
     "output_type": "execute_result"
    }
   ],
   "source": [
    "pyg.walk(df)"
   ]
  },
  {
   "cell_type": "code",
   "execution_count": null,
   "id": "c2ca873e-f5f7-4552-b7e5-b3dbae179d2f",
   "metadata": {
    "editable": true,
    "slideshow": {
     "slide_type": ""
    },
    "tags": []
   },
   "outputs": [],
   "source": []
  }
 ],
 "metadata": {
  "kernelspec": {
   "display_name": "Python 3 (ipykernel)",
   "language": "python",
   "name": "python3"
  },
  "language_info": {
   "codemirror_mode": {
    "name": "ipython",
    "version": 3
   },
   "file_extension": ".py",
   "mimetype": "text/x-python",
   "name": "python",
   "nbconvert_exporter": "python",
   "pygments_lexer": "ipython3",
   "version": "3.11.1"
  }
 },
 "nbformat": 4,
 "nbformat_minor": 5
}
